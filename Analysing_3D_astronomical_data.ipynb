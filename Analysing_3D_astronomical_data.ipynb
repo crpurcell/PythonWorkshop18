{
 "cells": [
  {
   "cell_type": "markdown",
   "metadata": {},
   "source": [
    "# Analysing 3D astronomical data"
   ]
  },
  {
   "cell_type": "code",
   "execution_count": null,
   "metadata": {},
   "outputs": [],
   "source": [
    "# Let's import the modules we are going to use here\n",
    "import os\n",
    "import sys\n",
    "import numpy as np\n",
    "import numpy.ma as ma\n",
    "from scipy import ndimage\n",
    "import astropy.io.fits as pf\n",
    "import matplotlib.pyplot as plt\n",
    "\n",
    "# Tell the notebook to display the plots inline\n",
    "%matplotlib inline"
   ]
  },
  {
   "cell_type": "markdown",
   "metadata": {},
   "source": [
    "The data we are using come from an astronomical survey called [HOPS](http://hops.org.au). The data show the distribution (x, y, velocity) of three spectral lines of ammonia and water in part of the Galaxy. For each molecule, there are files like this:\n",
    "\n",
    "* NH311_cube.fits = 3D data cube\n",
    "* NH311_SN.fits = signal-to-noise map of emission\n",
    "\n",
    "The files are in FITS (Flexible Image Transport System) format, widely used in astronomy. We use a python module called astropy to read the image data and associated meta-data. There are many other modules to read other scientific data formats (GEO-TIFF, GEO-RASTER, DICOM, HDF5 etc.) and almost all convert the data into numpy arrays and python dictionaries.\n",
    "\n",
    "First, lets take a look at the signal-to-noise map for each molecule."
   ]
  },
  {
   "cell_type": "code",
   "execution_count": null,
   "metadata": {},
   "outputs": [],
   "source": [
    "# Load in the metadata header and data array\n",
    "head = pf.getheader(\"dataHOPS/NH322_SN.fits\")\n",
    "data = pf.getdata(\"dataHOPS/NH322_SN.fits\")\n",
    "print(type(head), len(head))\n",
    "print(type(data), data.shape, data.dtype)"
   ]
  },
  {
   "cell_type": "markdown",
   "metadata": {},
   "source": [
    "The data is loaded into a 2D numpy array of shape (y=72px, x=145px) and data-type 'f4' = 32-bit floating point. The header is actually a kind dictionary with 23 entries."
   ]
  },
  {
   "cell_type": "code",
   "execution_count": null,
   "metadata": {},
   "outputs": [],
   "source": [
    "# Print the header\n",
    "for key in head.keys():\n",
    "    print(key, \"=\", head[key])"
   ]
  },
  {
   "cell_type": "code",
   "execution_count": null,
   "metadata": {},
   "outputs": [],
   "source": [
    "# Show the raw data array\n",
    "print(data)"
   ]
  },
  {
   "cell_type": "markdown",
   "metadata": {},
   "source": [
    "Notice that the data array contains NaNs (not-a-numbers), which are used in some data formats as 'blank' values. This means that we need to use special numpy methods that know to ignore NaNs. "
   ]
  },
  {
   "cell_type": "code",
   "execution_count": null,
   "metadata": {},
   "outputs": [],
   "source": [
    "# Measure some statistics of the signal-to noise map\n",
    "zMin = np.nanmin(data)\n",
    "zMax = np.nanmax(data)\n",
    "zStd = np.nanstd(data)\n",
    "print(zMin, zMax, zStd)"
   ]
  },
  {
   "cell_type": "code",
   "execution_count": null,
   "metadata": {},
   "outputs": [],
   "source": [
    "# There is no np.nanmedian, so we need to define our own function based on the masked version of median\n",
    "# Here we use the 'ma.masked_where' to tell numpy to mask the array when 'arr!=arr'.\n",
    "def nanmedian(arr, **kwargs):\n",
    "    \"\"\"Returns median ignoring NaN\"\"\"    \n",
    "    return ma.median( ma.masked_where(arr!=arr, arr), **kwargs )\n",
    "zMed = nanmedian(data)\n",
    "print(zMed)"
   ]
  },
  {
   "cell_type": "code",
   "execution_count": null,
   "metadata": {},
   "outputs": [],
   "source": [
    "# Lets plot the signal-to-noise map and contours of high-S/N regions we want to analyse\n",
    "fig=plt.figure(figsize=(12, 10), dpi= 80, facecolor='w', edgecolor='k')\n",
    "plt.imshow(data, origin='lower')\n",
    "plt.colorbar()\n",
    "levels=np.array([zMed+5*zStd, zMax])\n",
    "plt.contour(data, levels=levels)"
   ]
  },
  {
   "cell_type": "markdown",
   "metadata": {},
   "source": [
    "The signal-to-noise data allows us to define regions that we want to analyse separately - in this case distinct clumps of emission. We can make a mask to select data from the 3D spectral data-cube."
   ]
  },
  {
   "cell_type": "code",
   "execution_count": null,
   "metadata": {},
   "outputs": [],
   "source": [
    "# Make a binary mask at the level selected by the contour plot above.\n",
    "dataNoNaN = np.nan_to_num(data)      # Convert NaNs to zeros for this operation\n",
    "mask = np.where(dataNoNaN >= zMed+5*zStd, 1, 0)\n",
    "\n",
    "# Plot the mask\n",
    "fig=plt.figure(figsize=(12, 10), dpi= 80, facecolor='w', edgecolor='k')\n",
    "plt.imshow(mask, origin='lower')"
   ]
  },
  {
   "cell_type": "code",
   "execution_count": null,
   "metadata": {},
   "outputs": [],
   "source": [
    "# Now segment the mask using a nifty scipy tool\n",
    "maskLabeled, nIslands = ndimage.label(mask)\n",
    "print(\"Found %d islands in image.\" % nIslands)\n",
    "\n",
    "# This allows us to plot the islands of emission in different colours\n",
    "fig=plt.figure(figsize=(12, 10), dpi= 80, facecolor='w', edgecolor='k')\n",
    "plt.imshow(maskLabeled, origin='lower')"
   ]
  },
  {
   "cell_type": "markdown",
   "metadata": {},
   "source": [
    "One of the most common analysis task is to measure positions of regions. The scipy 'find_objects' function returns islands in a labeled mask and we can write a function to calculate the centroid of each island."
   ]
  },
  {
   "cell_type": "code",
   "execution_count": null,
   "metadata": {},
   "outputs": [],
   "source": [
    "# Define a function to calculate the centroid of the island\n",
    "def centroid(data):\n",
    "    \"\"\"Calculate the centroid of a 2D data array,\"\"\"\n",
    "    h, w = np.shape(data)   \n",
    "    x = np.arange(0, w)\n",
    "    y = np.arange(0, h)\n",
    "    X,Y = np.meshgrid(x,y)\n",
    "    cx = np.sum(X*data)/np.sum(data)\n",
    "    cy = np.sum(Y*data)/np.sum(data)\n",
    "    return cx, cy"
   ]
  },
  {
   "cell_type": "code",
   "execution_count": null,
   "metadata": {},
   "outputs": [],
   "source": [
    "# First extract slices corresponding ot the islands\n",
    "islands = ndimage.find_objects(maskLabeled)\n",
    "islands"
   ]
  },
  {
   "cell_type": "code",
   "execution_count": null,
   "metadata": {},
   "outputs": [],
   "source": [
    "# Show the shape of the island\n",
    "mask[islands[0]]"
   ]
  },
  {
   "cell_type": "code",
   "execution_count": null,
   "metadata": {},
   "outputs": [],
   "source": [
    "# Then loop through the islands, measuring position\n",
    "X_pix = []\n",
    "Y_pix = []\n",
    "islandLst = []\n",
    "for i, island in enumerate(islands):\n",
    "    nPix = np.sum(mask[island])\n",
    "    dy, dx  = island\n",
    "    x, y = dx.start, dy.start\n",
    "    cx, cy = centroid(mask[island])\n",
    "    X_pix.append(x + cx)\n",
    "    Y_pix.append(y + cy)\n",
    "    islandLst.append(island)\n",
    "    print(\"Island %d: %d pixels, (x, y) = (%.1f, %.1f)... \" % (i, nPix, X_pix[-1], Y_pix[-1]))"
   ]
  },
  {
   "cell_type": "code",
   "execution_count": null,
   "metadata": {},
   "outputs": [],
   "source": [
    "# Plot the positions on the signal-to-noise map\n",
    "fig=plt.figure(figsize=(12, 10), dpi= 80, facecolor='w', edgecolor='k')\n",
    "plt.imshow(data, origin='lower')\n",
    "plt.colorbar()\n",
    "levels=np.array([zMed+5*zStd, zMax])\n",
    "plt.contour(data, levels=levels)\n",
    "plt.scatter(X_pix, Y_pix)"
   ]
  },
  {
   "cell_type": "markdown",
   "metadata": {},
   "source": [
    "So now we positions and masks for our regions of interest. We want to look at our spectral data in each region - perhaps at the centroid, the peak pixel and an average over each region."
   ]
  },
  {
   "cell_type": "code",
   "execution_count": null,
   "metadata": {},
   "outputs": [],
   "source": [
    "# Load the data from the NH3(1,1) and NH3(2,2) cubes\n",
    "# The cubes have the same velocity (s) scale and shape, so we only need to get the meta-data once\n",
    "head = pf.getheader(\"dataHOPS/NH311_cube.fits\")\n",
    "data11 = pf.getdata(\"dataHOPS/NH311_cube.fits\")\n",
    "data22 = pf.getdata(\"dataHOPS/NH322_cube.fits\")\n",
    "print(type(head), len(head))\n",
    "print(type(data11), data11.shape, data11.dtype)"
   ]
  },
  {
   "cell_type": "code",
   "execution_count": null,
   "metadata": {},
   "outputs": [],
   "source": [
    "# FITS files contain information on a simple linear tranform to convert from channel to velocity\n",
    "chans = np.arange(data11.shape[0])\n",
    "z_kms = (head['CRVAL3'] + ( (chans - head['CRPIX3']) * head['CDELT3'] ))/1000."
   ]
  },
  {
   "cell_type": "markdown",
   "metadata": {},
   "source": [
    "The header is the same in both files, but this time the data is a 3D array (z, y, x). Lets extract spectra from the centroid of each region and display on a single plot."
   ]
  },
  {
   "cell_type": "code",
   "execution_count": null,
   "metadata": {},
   "outputs": [],
   "source": [
    "# Create a list to hold the spectra\n",
    "spec11Lst = []\n",
    "spec22Lst = []\n",
    "\n",
    "# Loop through the pixel positions and extract the data\n",
    "for i in range(len(X_pix)):\n",
    "    x = int(round(X_pix[i]))\n",
    "    y = int(round(Y_pix[i]))\n",
    "    spec11Lst.append(data11[:, y, x])\n",
    "    spec22Lst.append(data22[:, y, x])"
   ]
  },
  {
   "cell_type": "code",
   "execution_count": null,
   "metadata": {},
   "outputs": [],
   "source": [
    "# Plot the NH3 (1,1) spectra\n",
    "fig=plt.figure(figsize=(12, 10), dpi= 80, facecolor='w', edgecolor='k')\n",
    "offset = 0.0\n",
    "for i in range(len(X_pix)):\n",
    "    plt.plot(z_kms, spec11Lst[i]+offset)\n",
    "    offset +=1.3\n",
    "plt.xlabel(\"Velocity km.s$^{-1}$\")\n",
    "plt.ylabel(\"Brightness (Kelvin)\")\n",
    "plt.title(r\"NH$_3$ (1,1) Spectra\")"
   ]
  },
  {
   "cell_type": "code",
   "execution_count": null,
   "metadata": {},
   "outputs": [],
   "source": [
    "# Plot the NH3 (2,2) spectra\n",
    "fig=plt.figure(figsize=(12, 10), dpi= 80, facecolor='w', edgecolor='k')\n",
    "offset = 0.0\n",
    "for i in range(len(X_pix)):\n",
    "    plt.plot(z_kms, spec22Lst[i]+offset)\n",
    "    offset +=0.9\n",
    "plt.xlabel(\"Velocity km.s$^{-1}$\")\n",
    "plt.ylabel(\"Brightness (Kelvin)\")\n",
    "plt.title(r\"NH$_3$ (2,2) Spectra\")"
   ]
  },
  {
   "cell_type": "markdown",
   "metadata": {},
   "source": [
    "Now lets extract spectra over the pixel-masks and take a sum. Astronomers often want to measure this 'integrated brightness' to estimate the total amount of gas in a clump."
   ]
  },
  {
   "cell_type": "code",
   "execution_count": null,
   "metadata": {},
   "outputs": [],
   "source": [
    "# We can use the original labeled mask to blank out unwanted data\n",
    "maskTmp = np.where(maskLabeled==3, 1, np.nan)\n",
    "dataTmp = data11 * maskTmp\n",
    "\n",
    "# Plot the mask\n",
    "fig=plt.figure(figsize=(12, 10), dpi=80, facecolor='w', edgecolor='k')\n",
    "plt.imshow(dataTmp[50], origin='lower')"
   ]
  },
  {
   "cell_type": "code",
   "execution_count": null,
   "metadata": {},
   "outputs": [],
   "source": [
    "# Loop through the pixel positions, extract and sum the data\n",
    "spec11SumLst = []\n",
    "spec22SumLst = []\n",
    "for i in range(len(X_pix)):\n",
    "    maskTmp = np.where(maskLabeled==i, 1, np.nan)\n",
    "    data11Tmp = data11 * maskTmp\n",
    "    data22Tmp = data22 * maskTmp\n",
    "    \n",
    "    # Sum over the two spatial dimensions\n",
    "    spec11Summed = np.nansum(np.nansum(data11Tmp, axis=-1), axis=-1)\n",
    "    spec11SumLst.append(spec11Summed)\n",
    "    spec22Summed = np.nansum(np.nansum(data22Tmp, axis=-1), axis=-1)\n",
    "    spec22SumLst.append(spec22Summed)"
   ]
  },
  {
   "cell_type": "code",
   "execution_count": null,
   "metadata": {},
   "outputs": [],
   "source": [
    "# Plot the NH3 (1,1) spectra\n",
    "fig=plt.figure(figsize=(12, 10), dpi= 80, facecolor='w', edgecolor='k')\n",
    "offset = 0.0\n",
    "for i in range(len(X_pix)):\n",
    "    plt.plot(z_kms, spec11SumLst[i]+offset)\n",
    "    offset +=30.3\n",
    "plt.xlabel(\"Velocity km.s$^{-1}$\")\n",
    "plt.ylabel(\"Brightness (Kelvin)\")\n",
    "plt.title(r\"NH$_3$ (1,1) Spectra\")"
   ]
  },
  {
   "cell_type": "code",
   "execution_count": null,
   "metadata": {},
   "outputs": [],
   "source": [
    "# Plot the NH3 (2,2) spectra\n",
    "fig=plt.figure(figsize=(12, 10), dpi= 80, facecolor='w', edgecolor='k')\n",
    "offset = 0.0\n",
    "for i in range(len(X_pix)):\n",
    "    plt.plot(z_kms, spec22SumLst[i]+offset)\n",
    "    offset +=30.3\n",
    "plt.xlabel(\"Velocity km.s$^{-1}$\")\n",
    "plt.ylabel(\"Brightness (Kelvin)\")\n",
    "plt.title(r\"NH$_3$ (1,1) Spectra\")"
   ]
  },
  {
   "cell_type": "code",
   "execution_count": null,
   "metadata": {},
   "outputs": [],
   "source": []
  },
  {
   "cell_type": "code",
   "execution_count": null,
   "metadata": {},
   "outputs": [],
   "source": []
  }
 ],
 "metadata": {
  "kernelspec": {
   "display_name": "Python 3",
   "language": "python",
   "name": "python3"
  },
  "language_info": {
   "codemirror_mode": {
    "name": "ipython",
    "version": 3
   },
   "file_extension": ".py",
   "mimetype": "text/x-python",
   "name": "python",
   "nbconvert_exporter": "python",
   "pygments_lexer": "ipython3",
   "version": "3.5.5"
  }
 },
 "nbformat": 4,
 "nbformat_minor": 2
}
